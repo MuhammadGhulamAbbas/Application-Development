{
 "cells": [
  {
   "cell_type": "markdown",
   "id": "b2f2e503",
   "metadata": {},
   "source": [
    "### Write the python code for the following , execute and submit a pdf as well as notebook"
   ]
  },
  {
   "cell_type": "markdown",
   "id": "d1c9083b",
   "metadata": {},
   "source": [
    "#### Marks:15 , Grade Points:3 , Time: 25 Minutes"
   ]
  },
  {
   "cell_type": "markdown",
   "id": "a97682b8",
   "metadata": {},
   "source": [
    "### 1. Arrays "
   ]
  },
  {
   "cell_type": "code",
   "execution_count": 1,
   "id": "817fb7a5",
   "metadata": {},
   "outputs": [],
   "source": [
    "#1. Create a blank array myarray of integer type (1)"
   ]
  },
  {
   "cell_type": "code",
   "execution_count": 2,
   "id": "6721f4ef",
   "metadata": {},
   "outputs": [],
   "source": [
    "#2. Insert 10 mulitples of 5 starting from 50 (2)"
   ]
  },
  {
   "cell_type": "code",
   "execution_count": 3,
   "id": "bb066136",
   "metadata": {},
   "outputs": [],
   "source": [
    "#3. Display the elements of my array in an single row separated by a single space (1)"
   ]
  },
  {
   "cell_type": "code",
   "execution_count": 4,
   "id": "4d050658",
   "metadata": {},
   "outputs": [],
   "source": [
    "#4. Print the size of myarray using print() and len() as \" The size of myarray is : 10\" (1)"
   ]
  },
  {
   "cell_type": "code",
   "execution_count": 5,
   "id": "8eae280c",
   "metadata": {},
   "outputs": [],
   "source": [
    "#5. Delete all the elements from myarray and store them in another array called del_array (3)"
   ]
  },
  {
   "cell_type": "code",
   "execution_count": 6,
   "id": "3e41fd79",
   "metadata": {},
   "outputs": [],
   "source": [
    "#6 Dsiplay the elements of del_array (1)"
   ]
  },
  {
   "cell_type": "code",
   "execution_count": 7,
   "id": "dd3ff90f",
   "metadata": {},
   "outputs": [],
   "source": [
    "#7. Create an ampty list with name myslist (1)"
   ]
  },
  {
   "cell_type": "code",
   "execution_count": 8,
   "id": "797b9e98",
   "metadata": {},
   "outputs": [],
   "source": [
    "#8. Create a list with contains two integers , two floats , two booleans, two strings , two characters  and a sublist [10,20,30] (2)"
   ]
  },
  {
   "cell_type": "code",
   "execution_count": 9,
   "id": "d3b76ca4",
   "metadata": {},
   "outputs": [],
   "source": [
    "#9. Display all the elements of the list using positive indexing (1)"
   ]
  },
  {
   "cell_type": "code",
   "execution_count": 10,
   "id": "6bd4bb28",
   "metadata": {},
   "outputs": [],
   "source": [
    "#10. Display all the elements of the list uisng negative indexing (1)"
   ]
  },
  {
   "cell_type": "code",
   "execution_count": 11,
   "id": "82c11ac4",
   "metadata": {},
   "outputs": [],
   "source": [
    "#11.Add ['C','C++','Python'] sublist at the end of mylist (1)"
   ]
  }
 ],
 "metadata": {
  "kernelspec": {
   "display_name": "Python 3",
   "language": "python",
   "name": "python3"
  },
  "language_info": {
   "codemirror_mode": {
    "name": "ipython",
    "version": 3
   },
   "file_extension": ".py",
   "mimetype": "text/x-python",
   "name": "python",
   "nbconvert_exporter": "python",
   "pygments_lexer": "ipython3",
   "version": "3.8.10"
  }
 },
 "nbformat": 4,
 "nbformat_minor": 5
}
