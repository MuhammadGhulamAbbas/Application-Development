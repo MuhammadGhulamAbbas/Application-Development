{
 "cells": [
  {
   "cell_type": "markdown",
   "id": "7c51fb90",
   "metadata": {},
   "source": [
    "# Python Data Structures "
   ]
  },
  {
   "cell_type": "markdown",
   "id": "f69aa54b",
   "metadata": {},
   "source": [
    "# 1. Arrays "
   ]
  },
  {
   "cell_type": "code",
   "execution_count": 3,
   "id": "cee0ca5c",
   "metadata": {},
   "outputs": [],
   "source": [
    "# Import array module\n",
    "from array import *"
   ]
  },
  {
   "cell_type": "markdown",
   "id": "381f187e",
   "metadata": {},
   "source": [
    "### A. Creating Arrays "
   ]
  },
  {
   "cell_type": "code",
   "execution_count": 4,
   "id": "d674277d",
   "metadata": {},
   "outputs": [],
   "source": [
    "# Create an Array of Integers \n",
    "my_array=array(\"i\",[10,20,30,40,50])"
   ]
  },
  {
   "cell_type": "code",
   "execution_count": 5,
   "id": "043e904a",
   "metadata": {},
   "outputs": [
    {
     "data": {
      "text/plain": [
       "array('i', [10, 20, 30, 40, 50])"
      ]
     },
     "execution_count": 5,
     "metadata": {},
     "output_type": "execute_result"
    }
   ],
   "source": [
    "my_array"
   ]
  },
  {
   "cell_type": "code",
   "execution_count": 178,
   "id": "06c6bcae",
   "metadata": {},
   "outputs": [],
   "source": [
    "# Using Help Function\n",
    "#help(array)"
   ]
  },
  {
   "cell_type": "code",
   "execution_count": 7,
   "id": "4218de7c",
   "metadata": {},
   "outputs": [],
   "source": [
    "# Create an array of vowels \n",
    "vowels=array('u',['a','e','i','o','u'])"
   ]
  },
  {
   "cell_type": "code",
   "execution_count": 8,
   "id": "12b0fcb6",
   "metadata": {},
   "outputs": [
    {
     "data": {
      "text/plain": [
       "array('u', 'aeiou')"
      ]
     },
     "execution_count": 8,
     "metadata": {},
     "output_type": "execute_result"
    }
   ],
   "source": [
    "vowels"
   ]
  },
  {
   "cell_type": "markdown",
   "id": "f22ab628",
   "metadata": {},
   "source": [
    "### B. Accessing Array Elements "
   ]
  },
  {
   "cell_type": "code",
   "execution_count": 9,
   "id": "41364857",
   "metadata": {},
   "outputs": [
    {
     "data": {
      "text/plain": [
       "'a'"
      ]
     },
     "execution_count": 9,
     "metadata": {},
     "output_type": "execute_result"
    }
   ],
   "source": [
    "vowels[0]"
   ]
  },
  {
   "cell_type": "code",
   "execution_count": 10,
   "id": "07de0ef7",
   "metadata": {},
   "outputs": [
    {
     "data": {
      "text/plain": [
       "'e'"
      ]
     },
     "execution_count": 10,
     "metadata": {},
     "output_type": "execute_result"
    }
   ],
   "source": [
    "vowels[1]"
   ]
  },
  {
   "cell_type": "code",
   "execution_count": 11,
   "id": "5063d417",
   "metadata": {},
   "outputs": [
    {
     "data": {
      "text/plain": [
       "50"
      ]
     },
     "execution_count": 11,
     "metadata": {},
     "output_type": "execute_result"
    }
   ],
   "source": [
    "my_array[4]"
   ]
  },
  {
   "cell_type": "code",
   "execution_count": 12,
   "id": "dbd54839",
   "metadata": {
    "scrolled": true
   },
   "outputs": [
    {
     "name": "stdout",
     "output_type": "stream",
     "text": [
      "10\n",
      "20\n",
      "30\n",
      "40\n",
      "50\n"
     ]
    }
   ],
   "source": [
    "# Use for loop to display all the elements of an array\n",
    "for ind in range(0,len(my_array)):\n",
    "    print (my_array[ind])\n"
   ]
  },
  {
   "cell_type": "markdown",
   "id": "3377f790",
   "metadata": {},
   "source": [
    "See len() and range() built-in functions "
   ]
  },
  {
   "cell_type": "markdown",
   "id": "a2aef498",
   "metadata": {},
   "source": [
    "## Inserting Elements "
   ]
  },
  {
   "cell_type": "code",
   "execution_count": 13,
   "id": "7a32ded9",
   "metadata": {},
   "outputs": [],
   "source": [
    "# Use insert() to add elements . You need to specify the index and the value \n",
    "my_array.insert(5,60)"
   ]
  },
  {
   "cell_type": "code",
   "execution_count": 14,
   "id": "c08096e3",
   "metadata": {},
   "outputs": [
    {
     "data": {
      "text/plain": [
       "array('i', [10, 20, 30, 40, 50, 60])"
      ]
     },
     "execution_count": 14,
     "metadata": {},
     "output_type": "execute_result"
    }
   ],
   "source": [
    "my_array"
   ]
  },
  {
   "cell_type": "code",
   "execution_count": 15,
   "id": "da52d2c4",
   "metadata": {},
   "outputs": [],
   "source": [
    "# Using loop add elements 70, 80,....190\n",
    "for i in range (7,20):\n",
    "    my_array.insert(i,i*10)"
   ]
  },
  {
   "cell_type": "code",
   "execution_count": 16,
   "id": "577d918d",
   "metadata": {},
   "outputs": [
    {
     "data": {
      "text/plain": [
       "array('i', [10, 20, 30, 40, 50, 60, 70, 80, 90, 100, 110, 120, 130, 140, 150, 160, 170, 180, 190])"
      ]
     },
     "execution_count": 16,
     "metadata": {},
     "output_type": "execute_result"
    }
   ],
   "source": [
    "my_array"
   ]
  },
  {
   "cell_type": "code",
   "execution_count": 17,
   "id": "20f28b5c",
   "metadata": {},
   "outputs": [],
   "source": [
    "# You can also use append() whihc adds an element at the end of the array . you do not need to specify an index uisng append()\n",
    "my_array.append(200)"
   ]
  },
  {
   "cell_type": "code",
   "execution_count": 18,
   "id": "bf1c2ee5",
   "metadata": {},
   "outputs": [
    {
     "data": {
      "text/plain": [
       "array('i', [10, 20, 30, 40, 50, 60, 70, 80, 90, 100, 110, 120, 130, 140, 150, 160, 170, 180, 190, 200])"
      ]
     },
     "execution_count": 18,
     "metadata": {},
     "output_type": "execute_result"
    }
   ],
   "source": [
    "my_array"
   ]
  },
  {
   "cell_type": "code",
   "execution_count": 19,
   "id": "2f1c8574",
   "metadata": {},
   "outputs": [
    {
     "name": "stdout",
     "output_type": "stream",
     "text": [
      " Element at index 0 : 10\n",
      " Element at index 1 : 20\n",
      " Element at index 2 : 30\n",
      " Element at index 3 : 40\n",
      " Element at index 4 : 50\n",
      " Element at index 5 : 60\n",
      " Element at index 6 : 70\n",
      " Element at index 7 : 80\n",
      " Element at index 8 : 90\n",
      " Element at index 9 : 100\n",
      " Element at index 10 : 110\n",
      " Element at index 11 : 120\n",
      " Element at index 12 : 130\n",
      " Element at index 13 : 140\n",
      " Element at index 14 : 150\n",
      " Element at index 15 : 160\n",
      " Element at index 16 : 170\n",
      " Element at index 17 : 180\n",
      " Element at index 18 : 190\n",
      " Element at index 19 : 200\n"
     ]
    }
   ],
   "source": [
    "# Print all the elements in the array like\n",
    "# Element at index i :  10\n",
    "for i in range(0,len(my_array)):\n",
    "    print (\" Element at index \" + str(i) + \" :\", my_array[i])"
   ]
  },
  {
   "cell_type": "markdown",
   "id": "6dc9319b",
   "metadata": {},
   "source": [
    "## Removing / Deleting Elements "
   ]
  },
  {
   "cell_type": "code",
   "execution_count": 20,
   "id": "4b30a733",
   "metadata": {},
   "outputs": [
    {
     "name": "stdout",
     "output_type": "stream",
     "text": [
      "Orgional Array is : \n",
      "10 20 30 40 50 60 70 80 90 100 110 120 130 140 150 160 170 180 190 200 \n",
      "The popped element is:  200\n"
     ]
    }
   ],
   "source": [
    "# You can use pop() or remove() method. Pop() removes the last element or element at the specified index . \n",
    "\n",
    "print(\"Orgional Array is : \")\n",
    "for i in range(0,len(my_array)):\n",
    "    print (my_array[i] , end=\" \" )\n",
    "# pop the last element and display it\n",
    "print()\n",
    "print(\"The popped element is: \",end=\" \")\n",
    "print(my_array.pop())"
   ]
  },
  {
   "cell_type": "code",
   "execution_count": 21,
   "id": "6a797496",
   "metadata": {},
   "outputs": [],
   "source": [
    "# remove() deletes the 1st occurence of a specified element.\n",
    "my_array.remove(20)"
   ]
  },
  {
   "cell_type": "code",
   "execution_count": 22,
   "id": "79adf1ac",
   "metadata": {},
   "outputs": [
    {
     "data": {
      "text/plain": [
       "array('i', [10, 30, 40, 50, 60, 70, 80, 90, 100, 110, 120, 130, 140, 150, 160, 170, 180, 190])"
      ]
     },
     "execution_count": 22,
     "metadata": {},
     "output_type": "execute_result"
    }
   ],
   "source": [
    "# print the elements of the array \n",
    "my_array"
   ]
  },
  {
   "cell_type": "markdown",
   "id": "90281854",
   "metadata": {},
   "source": [
    "## Searching Elements "
   ]
  },
  {
   "cell_type": "code",
   "execution_count": 23,
   "id": "3da5ea1e",
   "metadata": {},
   "outputs": [
    {
     "data": {
      "text/plain": [
       "10"
      ]
     },
     "execution_count": 23,
     "metadata": {},
     "output_type": "execute_result"
    }
   ],
   "source": [
    "# index() can be used to return the index of the first occurence of an element\n",
    "my_array.index(120)"
   ]
  },
  {
   "cell_type": "code",
   "execution_count": 24,
   "id": "89988f9f",
   "metadata": {},
   "outputs": [
    {
     "name": "stdout",
     "output_type": "stream",
     "text": [
      "The index of 1st occurrence of 30 is : 1\n"
     ]
    }
   ],
   "source": [
    "print (\"The index of 1st occurrence of 30 is : \", end =\"\")\n",
    "print (my_array.index(30))\n",
    "# if an element is not presnet , then you will get an error"
   ]
  },
  {
   "cell_type": "code",
   "execution_count": 25,
   "id": "7d130455",
   "metadata": {},
   "outputs": [],
   "source": [
    "# create a function that tosearch an element in an array\n",
    "def find(x):\n",
    "    print (\"The index of 1st occurrence of \" + str(x) +\" is : \", end =\"\")\n",
    "    print (my_array.index(x))\n",
    "    "
   ]
  },
  {
   "cell_type": "code",
   "execution_count": 26,
   "id": "326bc6a0",
   "metadata": {},
   "outputs": [
    {
     "name": "stdout",
     "output_type": "stream",
     "text": [
      "The index of 1st occurrence of 30 is : 1\n"
     ]
    }
   ],
   "source": [
    "find(30)"
   ]
  },
  {
   "cell_type": "markdown",
   "id": "ed0186df",
   "metadata": {},
   "source": [
    "## Slicing "
   ]
  },
  {
   "cell_type": "code",
   "execution_count": 27,
   "id": "0c6a0a0d",
   "metadata": {},
   "outputs": [
    {
     "data": {
      "text/plain": [
       "array('i', [10, 30, 40, 50, 60, 70, 80, 90, 100, 110, 120, 130, 140, 150, 160, 170, 180, 190])"
      ]
     },
     "execution_count": 27,
     "metadata": {},
     "output_type": "execute_result"
    }
   ],
   "source": [
    "my_array"
   ]
  },
  {
   "cell_type": "code",
   "execution_count": 28,
   "id": "fd774d1a",
   "metadata": {},
   "outputs": [],
   "source": [
    "# Create a sub array with first five element\n",
    "array1=my_array[0:5]"
   ]
  },
  {
   "cell_type": "code",
   "execution_count": 29,
   "id": "7cf9399c",
   "metadata": {},
   "outputs": [
    {
     "data": {
      "text/plain": [
       "array('i', [10, 30, 40, 50, 60])"
      ]
     },
     "execution_count": 29,
     "metadata": {},
     "output_type": "execute_result"
    }
   ],
   "source": [
    "array1"
   ]
  },
  {
   "cell_type": "code",
   "execution_count": 30,
   "id": "6c155711",
   "metadata": {},
   "outputs": [],
   "source": [
    "# create a sub array of last 5 elements \n",
    "array2=my_array[len(my_array)-5:len(my_array)]"
   ]
  },
  {
   "cell_type": "code",
   "execution_count": 31,
   "id": "cc9b642a",
   "metadata": {},
   "outputs": [
    {
     "data": {
      "text/plain": [
       "array('i', [150, 160, 170, 180, 190])"
      ]
     },
     "execution_count": 31,
     "metadata": {},
     "output_type": "execute_result"
    }
   ],
   "source": [
    "array2"
   ]
  },
  {
   "cell_type": "markdown",
   "id": "27f42802",
   "metadata": {},
   "source": [
    "## Updating Array Elements"
   ]
  },
  {
   "cell_type": "code",
   "execution_count": 32,
   "id": "1f5b2ce3",
   "metadata": {},
   "outputs": [],
   "source": [
    "# Update the element at index 1 as 20\n",
    "my_array[1]=20"
   ]
  },
  {
   "cell_type": "code",
   "execution_count": 33,
   "id": "31477adf",
   "metadata": {},
   "outputs": [
    {
     "data": {
      "text/plain": [
       "array('i', [10, 20, 40, 50, 60, 70, 80, 90, 100, 110, 120, 130, 140, 150, 160, 170, 180, 190])"
      ]
     },
     "execution_count": 33,
     "metadata": {},
     "output_type": "execute_result"
    }
   ],
   "source": [
    "my_array"
   ]
  },
  {
   "cell_type": "markdown",
   "id": "7dc52902",
   "metadata": {},
   "source": [
    "## 2. List "
   ]
  },
  {
   "cell_type": "markdown",
   "id": "1d8de30f",
   "metadata": {},
   "source": [
    "Lists in Python are used to store collection of heterogeneous items i.e you can store items of different data types in a single list. \n",
    "- Lists are mutable, meaning that you can add, delete, or change elements in a flexible manner. \n",
    "- You can recognize lists by their square brackets [ and ] that hold elements, separated by a comma ,. \n",
    "- Lists are built into Python: you do not need to invoke them separately."
   ]
  },
  {
   "cell_type": "markdown",
   "id": "7b3fa419",
   "metadata": {},
   "source": [
    "###  A) Creating Lists"
   ]
  },
  {
   "cell_type": "code",
   "execution_count": 34,
   "id": "0861905e",
   "metadata": {},
   "outputs": [],
   "source": [
    "# Create an empty list \n",
    "mylist=[]\n"
   ]
  },
  {
   "cell_type": "code",
   "execution_count": 137,
   "id": "ccb339af",
   "metadata": {},
   "outputs": [],
   "source": [
    "# Create a list with 5 string values\n",
    "languages=['C', 'C++','java','python','golang']"
   ]
  },
  {
   "cell_type": "code",
   "execution_count": 36,
   "id": "3ec4d666",
   "metadata": {},
   "outputs": [
    {
     "data": {
      "text/plain": [
       "['C', 'C++', 'java', 'python', 'golang']"
      ]
     },
     "execution_count": 36,
     "metadata": {},
     "output_type": "execute_result"
    }
   ],
   "source": [
    "languages"
   ]
  },
  {
   "cell_type": "code",
   "execution_count": 37,
   "id": "a93281d1",
   "metadata": {},
   "outputs": [],
   "source": [
    "# create a list in range(0,20)\n",
    "numbers=list(range(0,20))"
   ]
  },
  {
   "cell_type": "code",
   "execution_count": 38,
   "id": "f1325d06",
   "metadata": {},
   "outputs": [
    {
     "data": {
      "text/plain": [
       "[0, 1, 2, 3, 4, 5, 6, 7, 8, 9, 10, 11, 12, 13, 14, 15, 16, 17, 18, 19]"
      ]
     },
     "execution_count": 38,
     "metadata": {},
     "output_type": "execute_result"
    }
   ],
   "source": [
    "numbers"
   ]
  },
  {
   "cell_type": "code",
   "execution_count": 39,
   "id": "e313c3c9",
   "metadata": {},
   "outputs": [],
   "source": [
    "# create a list of which contains 10 20 times \n",
    "list2=[10]*5"
   ]
  },
  {
   "cell_type": "code",
   "execution_count": 40,
   "id": "cdf510ef",
   "metadata": {},
   "outputs": [
    {
     "data": {
      "text/plain": [
       "[10, 10, 10, 10, 10]"
      ]
     },
     "execution_count": 40,
     "metadata": {},
     "output_type": "execute_result"
    }
   ],
   "source": [
    "list2"
   ]
  },
  {
   "cell_type": "markdown",
   "id": "538b11e6",
   "metadata": {},
   "source": [
    "### range()  Demonstration"
   ]
  },
  {
   "cell_type": "code",
   "execution_count": 41,
   "id": "f894e606",
   "metadata": {},
   "outputs": [
    {
     "name": "stdout",
     "output_type": "stream",
     "text": [
      "0 1 2 3 4 5 "
     ]
    }
   ],
   "source": [
    "for i in range(6):\n",
    "    print(i, end=\" \")"
   ]
  },
  {
   "cell_type": "code",
   "execution_count": 42,
   "id": "67e1f90c",
   "metadata": {},
   "outputs": [
    {
     "name": "stdout",
     "output_type": "stream",
     "text": [
      "0 1 2 3 4 5 "
     ]
    }
   ],
   "source": [
    "for i in range(0,6):\n",
    "    print(i, end=\" \")"
   ]
  },
  {
   "cell_type": "code",
   "execution_count": 43,
   "id": "3562b60a",
   "metadata": {},
   "outputs": [
    {
     "name": "stdout",
     "output_type": "stream",
     "text": [
      "1 3 5 7 9 11 13 15 17 19 "
     ]
    }
   ],
   "source": [
    "# print first odd numbers < 20\n",
    "for i in range(1,20,2):\n",
    "    print(i, end=\" \")"
   ]
  },
  {
   "cell_type": "code",
   "execution_count": 44,
   "id": "00b82615",
   "metadata": {},
   "outputs": [
    {
     "name": "stdout",
     "output_type": "stream",
     "text": [
      "0 2 4 6 8 10 12 14 16 18 "
     ]
    }
   ],
   "source": [
    "# print even numbers < 20\n",
    "for i in range(0,20,2):\n",
    "    print(i, end=\" \")"
   ]
  },
  {
   "cell_type": "markdown",
   "id": "9c738404",
   "metadata": {},
   "source": [
    "### B) Accessing List Elements / Indexing "
   ]
  },
  {
   "cell_type": "markdown",
   "id": "04a0e816",
   "metadata": {},
   "source": [
    "To get just one item from the list, you must specify its index. **However, remember that indexing begins at 0.**\n",
    "There are two types of Indexing\n",
    "1. Positive Indexing\n",
    "2. Negative Indexing\n",
    "\n",
    "##### Positive Indexing\n",
    "Positive indexing begins at 0 for the leftmost/first item, and then traverses right.\n"
   ]
  },
  {
   "cell_type": "code",
   "execution_count": 45,
   "id": "1de0f33c",
   "metadata": {},
   "outputs": [],
   "source": [
    "mylist=[10,20,\"Java\",\"Python\",True]"
   ]
  },
  {
   "cell_type": "code",
   "execution_count": 46,
   "id": "494128dc",
   "metadata": {},
   "outputs": [
    {
     "data": {
      "text/plain": [
       "10"
      ]
     },
     "execution_count": 46,
     "metadata": {},
     "output_type": "execute_result"
    }
   ],
   "source": [
    "mylist[0]"
   ]
  },
  {
   "cell_type": "code",
   "execution_count": 47,
   "id": "6b39f783",
   "metadata": {},
   "outputs": [
    {
     "data": {
      "text/plain": [
       "True"
      ]
     },
     "execution_count": 47,
     "metadata": {},
     "output_type": "execute_result"
    }
   ],
   "source": [
    "mylist[4]"
   ]
  },
  {
   "cell_type": "code",
   "execution_count": 48,
   "id": "a292ef9d",
   "metadata": {},
   "outputs": [
    {
     "data": {
      "text/plain": [
       "'Python'"
      ]
     },
     "execution_count": 48,
     "metadata": {},
     "output_type": "execute_result"
    }
   ],
   "source": [
    "mylist[3]"
   ]
  },
  {
   "cell_type": "markdown",
   "id": "1319b5ee",
   "metadata": {},
   "source": [
    "##### Negative Indexing\n",
    "Contrary to positive indexing, negative indexing begins at **-1** for the rightmost/last item, and then traverses left"
   ]
  },
  {
   "cell_type": "code",
   "execution_count": 49,
   "id": "7b354beb",
   "metadata": {},
   "outputs": [
    {
     "data": {
      "text/plain": [
       "True"
      ]
     },
     "execution_count": 49,
     "metadata": {},
     "output_type": "execute_result"
    }
   ],
   "source": [
    "mylist[-1]"
   ]
  },
  {
   "cell_type": "code",
   "execution_count": 50,
   "id": "613e608b",
   "metadata": {},
   "outputs": [
    {
     "data": {
      "text/plain": [
       "'Python'"
      ]
     },
     "execution_count": 50,
     "metadata": {},
     "output_type": "execute_result"
    }
   ],
   "source": [
    "mylist[-2]"
   ]
  },
  {
   "cell_type": "code",
   "execution_count": 51,
   "id": "cd9f68ec",
   "metadata": {},
   "outputs": [
    {
     "data": {
      "text/plain": [
       "10"
      ]
     },
     "execution_count": 51,
     "metadata": {},
     "output_type": "execute_result"
    }
   ],
   "source": [
    "mylist[-5]"
   ]
  },
  {
   "cell_type": "markdown",
   "id": "bda54b7c",
   "metadata": {},
   "source": [
    "### C). Slicing "
   ]
  },
  {
   "cell_type": "code",
   "execution_count": 53,
   "id": "af8ba577",
   "metadata": {},
   "outputs": [
    {
     "data": {
      "text/plain": [
       "[0, 1, 2, 3, 4, 5, 6, 7, 8, 9, 10, 11, 12, 13, 14, 15, 16, 17, 18, 19]"
      ]
     },
     "execution_count": 53,
     "metadata": {},
     "output_type": "execute_result"
    }
   ],
   "source": [
    "numbers"
   ]
  },
  {
   "cell_type": "code",
   "execution_count": 54,
   "id": "05fcedae",
   "metadata": {},
   "outputs": [],
   "source": [
    "# create a sublist which contains first 5 elements\n",
    "sublist1=numbers[0:5]"
   ]
  },
  {
   "cell_type": "code",
   "execution_count": 55,
   "id": "1b6e67a9",
   "metadata": {},
   "outputs": [
    {
     "data": {
      "text/plain": [
       "[0, 1, 2, 3, 4]"
      ]
     },
     "execution_count": 55,
     "metadata": {},
     "output_type": "execute_result"
    }
   ],
   "source": [
    "sublist1"
   ]
  },
  {
   "cell_type": "code",
   "execution_count": 56,
   "id": "e260338a",
   "metadata": {},
   "outputs": [],
   "source": [
    "# create a sublist that contains elements from index 5 till the last element\n",
    "sublist2=numbers[5:]"
   ]
  },
  {
   "cell_type": "code",
   "execution_count": 57,
   "id": "917ff9d0",
   "metadata": {},
   "outputs": [
    {
     "data": {
      "text/plain": [
       "[5, 6, 7, 8, 9, 10, 11, 12, 13, 14, 15, 16, 17, 18, 19]"
      ]
     },
     "execution_count": 57,
     "metadata": {},
     "output_type": "execute_result"
    }
   ],
   "source": [
    "sublist2"
   ]
  },
  {
   "cell_type": "code",
   "execution_count": 86,
   "id": "074e185b",
   "metadata": {},
   "outputs": [],
   "source": [
    "# create a sublist that conatins last 5 elements using negative index\n",
    "sublist3=numbers[-5:]"
   ]
  },
  {
   "cell_type": "code",
   "execution_count": 87,
   "id": "5fa135ec",
   "metadata": {},
   "outputs": [
    {
     "data": {
      "text/plain": [
       "[15, 16, 17, 18, 19]"
      ]
     },
     "execution_count": 87,
     "metadata": {},
     "output_type": "execute_result"
    }
   ],
   "source": [
    "sublist3"
   ]
  },
  {
   "cell_type": "code",
   "execution_count": 89,
   "id": "795fb279",
   "metadata": {},
   "outputs": [
    {
     "name": "stdout",
     "output_type": "stream",
     "text": [
      "[15, 16, 17, 18, 19]\n"
     ]
    }
   ],
   "source": [
    "print(sublist3)"
   ]
  },
  {
   "cell_type": "code",
   "execution_count": null,
   "id": "e1b321d7",
   "metadata": {},
   "outputs": [],
   "source": [
    "# create a sublist which displays all the number at even index till index 15"
   ]
  },
  {
   "cell_type": "code",
   "execution_count": 95,
   "id": "8fd3f298",
   "metadata": {},
   "outputs": [],
   "source": [
    "sublist4=numbers[0:15:2]"
   ]
  },
  {
   "cell_type": "code",
   "execution_count": 96,
   "id": "02e2820e",
   "metadata": {},
   "outputs": [
    {
     "data": {
      "text/plain": [
       "[0, 2, 4, 6, 8, 10, 12, 14]"
      ]
     },
     "execution_count": 96,
     "metadata": {},
     "output_type": "execute_result"
    }
   ],
   "source": [
    "sublist4"
   ]
  },
  {
   "cell_type": "markdown",
   "id": "503e7bbd",
   "metadata": {},
   "source": [
    "### D) Useful Methods "
   ]
  },
  {
   "cell_type": "code",
   "execution_count": 99,
   "id": "a3a91bf9",
   "metadata": {},
   "outputs": [],
   "source": [
    "mylist=['C++' , 12, 20, 50.5 , True ]\n",
    "list2=[10,20,30,40,50]"
   ]
  },
  {
   "cell_type": "markdown",
   "id": "c1f02109",
   "metadata": {},
   "source": [
    "#### append()\n",
    "To add an element at the end of a list"
   ]
  },
  {
   "cell_type": "code",
   "execution_count": 100,
   "id": "ac449dc2",
   "metadata": {},
   "outputs": [],
   "source": [
    "mylist.append('python')"
   ]
  },
  {
   "cell_type": "code",
   "execution_count": 101,
   "id": "6c78156e",
   "metadata": {},
   "outputs": [
    {
     "data": {
      "text/plain": [
       "['C++', 12, 20, 50.5, True, 'python']"
      ]
     },
     "execution_count": 101,
     "metadata": {},
     "output_type": "execute_result"
    }
   ],
   "source": [
    "mylist"
   ]
  },
  {
   "cell_type": "markdown",
   "id": "8d7d7e75",
   "metadata": {},
   "source": [
    "#### extend()\n",
    "To append elements from another list to the current list, use the `extend()` method."
   ]
  },
  {
   "cell_type": "code",
   "execution_count": 102,
   "id": "bbc7c4fb",
   "metadata": {},
   "outputs": [],
   "source": [
    "mylist.extend(list2)"
   ]
  },
  {
   "cell_type": "code",
   "execution_count": 103,
   "id": "b00568d1",
   "metadata": {},
   "outputs": [
    {
     "data": {
      "text/plain": [
       "['C++', 12, 20, 50.5, True, 'python', 10, 20, 30, 40, 50]"
      ]
     },
     "execution_count": 103,
     "metadata": {},
     "output_type": "execute_result"
    }
   ],
   "source": [
    "mylist"
   ]
  },
  {
   "cell_type": "markdown",
   "id": "394b9746",
   "metadata": {},
   "source": [
    "#### remove()\n",
    "The `remove()` method removes the first occurence of the specified item."
   ]
  },
  {
   "cell_type": "code",
   "execution_count": 106,
   "id": "553fb2dc",
   "metadata": {},
   "outputs": [],
   "source": [
    "mylist.remove(20)"
   ]
  },
  {
   "cell_type": "code",
   "execution_count": 107,
   "id": "45211288",
   "metadata": {},
   "outputs": [
    {
     "data": {
      "text/plain": [
       "['C++', 12, 50.5, True, 'python', 10, 20, 30, 40, 50]"
      ]
     },
     "execution_count": 107,
     "metadata": {},
     "output_type": "execute_result"
    }
   ],
   "source": [
    "mylist"
   ]
  },
  {
   "cell_type": "markdown",
   "id": "651857bf",
   "metadata": {},
   "source": [
    "#### pop()\n",
    "reomove the element at the specified index"
   ]
  },
  {
   "cell_type": "code",
   "execution_count": 108,
   "id": "374bb974",
   "metadata": {},
   "outputs": [
    {
     "data": {
      "text/plain": [
       "10"
      ]
     },
     "execution_count": 108,
     "metadata": {},
     "output_type": "execute_result"
    }
   ],
   "source": [
    "mylist.pop(5)"
   ]
  },
  {
   "cell_type": "code",
   "execution_count": 109,
   "id": "527ef2f0",
   "metadata": {},
   "outputs": [
    {
     "data": {
      "text/plain": [
       "['C++', 12, 50.5, True, 'python', 20, 30, 40, 50]"
      ]
     },
     "execution_count": 109,
     "metadata": {},
     "output_type": "execute_result"
    }
   ],
   "source": [
    "mylist"
   ]
  },
  {
   "cell_type": "markdown",
   "id": "4fd19b24",
   "metadata": {},
   "source": [
    "#### sort()\n",
    "sorts the elements"
   ]
  },
  {
   "cell_type": "code",
   "execution_count": 111,
   "id": "053ede86",
   "metadata": {},
   "outputs": [],
   "source": [
    "l1=[23,6,89,45,3,15,90]"
   ]
  },
  {
   "cell_type": "code",
   "execution_count": 112,
   "id": "195c326c",
   "metadata": {},
   "outputs": [],
   "source": [
    "l1.sort()"
   ]
  },
  {
   "cell_type": "code",
   "execution_count": 113,
   "id": "6b837bf7",
   "metadata": {},
   "outputs": [
    {
     "data": {
      "text/plain": [
       "[3, 6, 15, 23, 45, 89, 90]"
      ]
     },
     "execution_count": 113,
     "metadata": {},
     "output_type": "execute_result"
    }
   ],
   "source": [
    "l1"
   ]
  },
  {
   "cell_type": "code",
   "execution_count": 114,
   "id": "4c5368c1",
   "metadata": {},
   "outputs": [],
   "source": [
    "l1.sort(reverse=True)"
   ]
  },
  {
   "cell_type": "code",
   "execution_count": 115,
   "id": "fdb3f43c",
   "metadata": {},
   "outputs": [
    {
     "data": {
      "text/plain": [
       "[90, 89, 45, 23, 15, 6, 3]"
      ]
     },
     "execution_count": 115,
     "metadata": {},
     "output_type": "execute_result"
    }
   ],
   "source": [
    "l1"
   ]
  },
  {
   "cell_type": "code",
   "execution_count": 116,
   "id": "45f17d6d",
   "metadata": {},
   "outputs": [],
   "source": [
    "languages.sort()"
   ]
  },
  {
   "cell_type": "code",
   "execution_count": 138,
   "id": "fd2e71c9",
   "metadata": {},
   "outputs": [
    {
     "data": {
      "text/plain": [
       "['C', 'C++', 'java', 'python', 'golang']"
      ]
     },
     "execution_count": 138,
     "metadata": {},
     "output_type": "execute_result"
    }
   ],
   "source": [
    "languages"
   ]
  },
  {
   "cell_type": "markdown",
   "id": "43841a28",
   "metadata": {},
   "source": [
    "####  index()\n",
    "returns the index of the first occurence of a specified element"
   ]
  },
  {
   "cell_type": "code",
   "execution_count": 139,
   "id": "3568f1a4",
   "metadata": {},
   "outputs": [
    {
     "data": {
      "text/plain": [
       "2"
      ]
     },
     "execution_count": 139,
     "metadata": {},
     "output_type": "execute_result"
    }
   ],
   "source": [
    "languages.index('java')"
   ]
  },
  {
   "cell_type": "markdown",
   "id": "ed40b4e6",
   "metadata": {},
   "source": [
    "#### count()\n",
    "Returns the numer of occurences of an element"
   ]
  },
  {
   "cell_type": "code",
   "execution_count": 140,
   "id": "180622b1",
   "metadata": {},
   "outputs": [
    {
     "data": {
      "text/plain": [
       "1"
      ]
     },
     "execution_count": 140,
     "metadata": {},
     "output_type": "execute_result"
    }
   ],
   "source": [
    "languages.count('python')"
   ]
  },
  {
   "cell_type": "markdown",
   "id": "5e0e491d",
   "metadata": {},
   "source": [
    "#### copy()\n",
    "Creates a copy of a list"
   ]
  },
  {
   "cell_type": "code",
   "execution_count": 141,
   "id": "4a978d81",
   "metadata": {},
   "outputs": [],
   "source": [
    "lang=languages.copy()"
   ]
  },
  {
   "cell_type": "code",
   "execution_count": 142,
   "id": "6d617a35",
   "metadata": {},
   "outputs": [
    {
     "data": {
      "text/plain": [
       "['C', 'C++', 'java', 'python', 'golang']"
      ]
     },
     "execution_count": 142,
     "metadata": {},
     "output_type": "execute_result"
    }
   ],
   "source": [
    "lang"
   ]
  },
  {
   "cell_type": "markdown",
   "id": "58b0efaa",
   "metadata": {},
   "source": [
    "#### reverse()\n",
    "Reverses the order of a list "
   ]
  },
  {
   "cell_type": "code",
   "execution_count": 143,
   "id": "22140adf",
   "metadata": {},
   "outputs": [],
   "source": [
    "lang.reverse()"
   ]
  },
  {
   "cell_type": "code",
   "execution_count": 144,
   "id": "7ead8613",
   "metadata": {},
   "outputs": [
    {
     "data": {
      "text/plain": [
       "['golang', 'python', 'java', 'C++', 'C']"
      ]
     },
     "execution_count": 144,
     "metadata": {},
     "output_type": "execute_result"
    }
   ],
   "source": [
    "lang"
   ]
  },
  {
   "cell_type": "markdown",
   "id": "94e8bba5",
   "metadata": {},
   "source": [
    "#### clear()\n",
    "Clear the contents of a list"
   ]
  },
  {
   "cell_type": "code",
   "execution_count": 145,
   "id": "09bb3e85",
   "metadata": {},
   "outputs": [],
   "source": [
    "lang.clear()"
   ]
  },
  {
   "cell_type": "code",
   "execution_count": 146,
   "id": "0d8f682d",
   "metadata": {},
   "outputs": [
    {
     "data": {
      "text/plain": [
       "[]"
      ]
     },
     "execution_count": 146,
     "metadata": {},
     "output_type": "execute_result"
    }
   ],
   "source": [
    "lang"
   ]
  },
  {
   "cell_type": "markdown",
   "id": "0e1ab47b",
   "metadata": {},
   "source": [
    "#### insert()\n",
    "To insert a new list item, without replacing any of the existing values, we can use the insert() method.\n"
   ]
  },
  {
   "cell_type": "code",
   "execution_count": 147,
   "id": "46bb7b18",
   "metadata": {},
   "outputs": [
    {
     "data": {
      "text/plain": [
       "['C', 'C++', 'java', 'python', 'golang']"
      ]
     },
     "execution_count": 147,
     "metadata": {},
     "output_type": "execute_result"
    }
   ],
   "source": [
    "languages"
   ]
  },
  {
   "cell_type": "code",
   "execution_count": 148,
   "id": "eea9e58c",
   "metadata": {},
   "outputs": [],
   "source": [
    "languages.insert(1,\"C#\")"
   ]
  },
  {
   "cell_type": "code",
   "execution_count": 149,
   "id": "4d435da5",
   "metadata": {},
   "outputs": [
    {
     "data": {
      "text/plain": [
       "['C', 'C#', 'C++', 'java', 'python', 'golang']"
      ]
     },
     "execution_count": 149,
     "metadata": {},
     "output_type": "execute_result"
    }
   ],
   "source": [
    "languages"
   ]
  },
  {
   "cell_type": "markdown",
   "id": "3761f602",
   "metadata": {},
   "source": [
    "## List Operators "
   ]
  },
  {
   "cell_type": "markdown",
   "id": "155fc07b",
   "metadata": {},
   "source": [
    "#### + Operator"
   ]
  },
  {
   "cell_type": "code",
   "execution_count": 166,
   "id": "0092212c",
   "metadata": {},
   "outputs": [],
   "source": [
    "human_languages=['English','Chinese','French']"
   ]
  },
  {
   "cell_type": "code",
   "execution_count": 167,
   "id": "37b9f487",
   "metadata": {},
   "outputs": [],
   "source": [
    "lang_combined=languages+human_languages"
   ]
  },
  {
   "cell_type": "code",
   "execution_count": 168,
   "id": "15390c74",
   "metadata": {},
   "outputs": [
    {
     "data": {
      "text/plain": [
       "['C', 'C#', 'C++', 'java', 'python', 'golang', 'English', 'Chinese', 'French']"
      ]
     },
     "execution_count": 168,
     "metadata": {},
     "output_type": "execute_result"
    }
   ],
   "source": [
    "lang_combined"
   ]
  },
  {
   "cell_type": "markdown",
   "id": "740d4406",
   "metadata": {},
   "source": [
    "#### in Operator"
   ]
  },
  {
   "cell_type": "code",
   "execution_count": 169,
   "id": "b73e679d",
   "metadata": {},
   "outputs": [
    {
     "name": "stdout",
     "output_type": "stream",
     "text": [
      " C is present in the list\n"
     ]
    }
   ],
   "source": [
    "if ('C' in lang_combined ):\n",
    "    print( \" C is present in the list\")"
   ]
  },
  {
   "cell_type": "markdown",
   "id": "9874fc3a",
   "metadata": {},
   "source": [
    "#### not in Operator"
   ]
  },
  {
   "cell_type": "code",
   "execution_count": 173,
   "id": "610fd1b0",
   "metadata": {},
   "outputs": [
    {
     "name": "stdout",
     "output_type": "stream",
     "text": [
      " C+++ is not present in the list\n"
     ]
    }
   ],
   "source": [
    "if ('C+++' not in lang_combined ):b\n",
    "    print( \" C+++ is not present in the list\")"
   ]
  },
  {
   "cell_type": "markdown",
   "id": "ccd982a6",
   "metadata": {},
   "source": [
    "#### Replication Operator *"
   ]
  },
  {
   "cell_type": "code",
   "execution_count": 174,
   "id": "67329dd3",
   "metadata": {},
   "outputs": [
    {
     "data": {
      "text/plain": [
       "['C',\n",
       " 'C#',\n",
       " 'C++',\n",
       " 'java',\n",
       " 'python',\n",
       " 'golang',\n",
       " 'English',\n",
       " 'Chinese',\n",
       " 'French',\n",
       " 'C',\n",
       " 'C#',\n",
       " 'C++',\n",
       " 'java',\n",
       " 'python',\n",
       " 'golang',\n",
       " 'English',\n",
       " 'Chinese',\n",
       " 'French']"
      ]
     },
     "execution_count": 174,
     "metadata": {},
     "output_type": "execute_result"
    }
   ],
   "source": [
    "lang_combined *2"
   ]
  },
  {
   "cell_type": "markdown",
   "id": "2d75440b",
   "metadata": {},
   "source": [
    "# 3. Tuples"
   ]
  },
  {
   "cell_type": "code",
   "execution_count": 153,
   "id": "96757a78",
   "metadata": {},
   "outputs": [],
   "source": [
    "# create a tuple\n",
    "mytuple=(\"C++\",\"Python\",\"Java\")"
   ]
  },
  {
   "cell_type": "code",
   "execution_count": 154,
   "id": "919b1448",
   "metadata": {},
   "outputs": [
    {
     "data": {
      "text/plain": [
       "tuple"
      ]
     },
     "execution_count": 154,
     "metadata": {},
     "output_type": "execute_result"
    }
   ],
   "source": [
    "type(mytuple)"
   ]
  },
  {
   "cell_type": "markdown",
   "id": "d442b693",
   "metadata": {},
   "source": [
    "#### Tuples are immutable"
   ]
  },
  {
   "cell_type": "code",
   "execution_count": 155,
   "id": "a5d76422",
   "metadata": {},
   "outputs": [
    {
     "data": {
      "text/plain": [
       "'Python'"
      ]
     },
     "execution_count": 155,
     "metadata": {},
     "output_type": "execute_result"
    }
   ],
   "source": [
    "mytuple[1]"
   ]
  },
  {
   "cell_type": "code",
   "execution_count": 156,
   "id": "e8c7bf0e",
   "metadata": {},
   "outputs": [
    {
     "ename": "TypeError",
     "evalue": "'tuple' object does not support item assignment",
     "output_type": "error",
     "traceback": [
      "\u001b[1;31m---------------------------------------------------------------------------\u001b[0m",
      "\u001b[1;31mTypeError\u001b[0m                                 Traceback (most recent call last)",
      "\u001b[1;32m<ipython-input-156-b91fa2ba2a34>\u001b[0m in \u001b[0;36m<module>\u001b[1;34m\u001b[0m\n\u001b[1;32m----> 1\u001b[1;33m \u001b[0mmytuple\u001b[0m\u001b[1;33m[\u001b[0m\u001b[1;36m1\u001b[0m\u001b[1;33m]\u001b[0m\u001b[1;33m=\u001b[0m\u001b[1;34m\"Java Script\"\u001b[0m\u001b[1;33m\u001b[0m\u001b[1;33m\u001b[0m\u001b[0m\n\u001b[0m",
      "\u001b[1;31mTypeError\u001b[0m: 'tuple' object does not support item assignment"
     ]
    }
   ],
   "source": [
    "mytuple[1]=\"Java Script\""
   ]
  },
  {
   "cell_type": "markdown",
   "id": "33f2c1b3",
   "metadata": {},
   "source": [
    "### Accessing elements / Indexing\n",
    "tuples elements can be accessed similar to lists"
   ]
  },
  {
   "cell_type": "code",
   "execution_count": 158,
   "id": "9f49d169",
   "metadata": {},
   "outputs": [
    {
     "data": {
      "text/plain": [
       "'Java'"
      ]
     },
     "execution_count": 158,
     "metadata": {},
     "output_type": "execute_result"
    }
   ],
   "source": [
    "mytuple[2]"
   ]
  },
  {
   "cell_type": "code",
   "execution_count": 159,
   "id": "c0b498cb",
   "metadata": {},
   "outputs": [
    {
     "data": {
      "text/plain": [
       "'Java'"
      ]
     },
     "execution_count": 159,
     "metadata": {},
     "output_type": "execute_result"
    }
   ],
   "source": [
    "mytuple[-1]"
   ]
  },
  {
   "cell_type": "code",
   "execution_count": 160,
   "id": "8efb2a90",
   "metadata": {},
   "outputs": [
    {
     "data": {
      "text/plain": [
       "('Python', 'Java')"
      ]
     },
     "execution_count": 160,
     "metadata": {},
     "output_type": "execute_result"
    }
   ],
   "source": [
    "mytuple[1:3]"
   ]
  },
  {
   "cell_type": "markdown",
   "id": "5a612d13",
   "metadata": {},
   "source": [
    "### Tuples Unpacking\n",
    "tuples can be unpacked and asigned to variables"
   ]
  },
  {
   "cell_type": "code",
   "execution_count": 162,
   "id": "0af14ff1",
   "metadata": {},
   "outputs": [],
   "source": [
    "l1,l2,l3=mytuple"
   ]
  },
  {
   "cell_type": "code",
   "execution_count": 163,
   "id": "0c6b34ac",
   "metadata": {},
   "outputs": [
    {
     "data": {
      "text/plain": [
       "'C++'"
      ]
     },
     "execution_count": 163,
     "metadata": {},
     "output_type": "execute_result"
    }
   ],
   "source": [
    "l1"
   ]
  },
  {
   "cell_type": "code",
   "execution_count": 164,
   "id": "c1b33af2",
   "metadata": {},
   "outputs": [
    {
     "data": {
      "text/plain": [
       "'Python'"
      ]
     },
     "execution_count": 164,
     "metadata": {},
     "output_type": "execute_result"
    }
   ],
   "source": [
    "l2"
   ]
  },
  {
   "cell_type": "code",
   "execution_count": 165,
   "id": "0e8398e2",
   "metadata": {},
   "outputs": [
    {
     "data": {
      "text/plain": [
       "'Java'"
      ]
     },
     "execution_count": 165,
     "metadata": {},
     "output_type": "execute_result"
    }
   ],
   "source": [
    "l3"
   ]
  },
  {
   "cell_type": "code",
   "execution_count": null,
   "id": "d38510db",
   "metadata": {},
   "outputs": [],
   "source": []
  }
 ],
 "metadata": {
  "kernelspec": {
   "display_name": "Python 3",
   "language": "python",
   "name": "python3"
  },
  "language_info": {
   "codemirror_mode": {
    "name": "ipython",
    "version": 3
   },
   "file_extension": ".py",
   "mimetype": "text/x-python",
   "name": "python",
   "nbconvert_exporter": "python",
   "pygments_lexer": "ipython3",
   "version": "3.8.10"
  }
 },
 "nbformat": 4,
 "nbformat_minor": 5
}
