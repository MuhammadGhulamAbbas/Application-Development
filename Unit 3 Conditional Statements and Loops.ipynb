{
 "cells": [
  {
   "cell_type": "markdown",
   "id": "a2584ddc",
   "metadata": {},
   "source": [
    "# Conditional Statements and Loops"
   ]
  },
  {
   "cell_type": "markdown",
   "id": "a0c36d2a",
   "metadata": {},
   "source": [
    "## A.Conditional Statements "
   ]
  },
  {
   "cell_type": "markdown",
   "id": "7f546dfe",
   "metadata": {},
   "source": [
    "## 1. if Statement"
   ]
  },
  {
   "cell_type": "code",
   "execution_count": null,
   "id": "40bd8058",
   "metadata": {},
   "outputs": [],
   "source": [
    "a=100\n",
    "b=20\n",
    "if(a>b):\n",
    "    print(\"a is greater than b\")\n",
    "    print(\"a=\" + str(a) + \"b= \" + str(b))"
   ]
  },
  {
   "cell_type": "code",
   "execution_count": null,
   "id": "80bb0438",
   "metadata": {},
   "outputs": [],
   "source": [
    "a=100 # Assignemnt Statement\n",
    "b=20  # Assignment Statement\n",
    "if(a>b): # Boolean Expression \n",
    "    print(\"a is greater than b\")       # if body - statement 1\n",
    "    print(\"a= {}  b={} \".format(a,b))  # if body - statement 2\n",
    "print(\"This print statement will execute no matter a>b or a<b\")   "
   ]
  },
  {
   "cell_type": "markdown",
   "id": "48e25c20",
   "metadata": {},
   "source": [
    "## 2. if else Statement "
   ]
  },
  {
   "cell_type": "code",
   "execution_count": null,
   "id": "ea07039d",
   "metadata": {},
   "outputs": [],
   "source": [
    "a = 330\n",
    "b = 200\n",
    "if b > a:\n",
    "    print(\"b is greater than a\")\n",
    "else:\n",
    "    print(\"a is greater than or equal to b\")"
   ]
  },
  {
   "cell_type": "markdown",
   "id": "6baf9292",
   "metadata": {},
   "source": [
    "## 3. Chained Conditionals elif Statement"
   ]
  },
  {
   "cell_type": "code",
   "execution_count": null,
   "id": "6ef436ae",
   "metadata": {},
   "outputs": [],
   "source": [
    "x=60\n",
    "y=50\n",
    "if(x<y):\n",
    "    print(\" x is less than y\")\n",
    "elif(x>y):\n",
    "    print(\"x is greater than y\")\n",
    "else:\n",
    "    print(\" x and y are equal\")\n"
   ]
  },
  {
   "cell_type": "markdown",
   "id": "a4fe3d8f",
   "metadata": {},
   "source": [
    "##  4. Nested Conditional Statements "
   ]
  },
  {
   "cell_type": "code",
   "execution_count": null,
   "id": "420b5d9c",
   "metadata": {},
   "outputs": [],
   "source": [
    "x = 30\n",
    "y = 20\n",
    "if x < y:\n",
    "    print(\"Statement A: x is less than y\")\n",
    "else:\n",
    "    if x > y:\n",
    "        print(\" Statement B: x is greater than y\")\n",
    "    else:\n",
    "        print(\"Statement C: x is equal to y\")"
   ]
  },
  {
   "cell_type": "markdown",
   "id": "6f4fe896",
   "metadata": {},
   "source": [
    "## 5. Multiple Conditions using Logical Operators "
   ]
  },
  {
   "cell_type": "markdown",
   "id": "559548f3",
   "metadata": {},
   "source": [
    "student='Yes'\n",
    "age=25\n",
    "gender='Male'\n",
    "if student=='Yes'and age>20 or gender=='Female':\n",
    "    print(\"This person is likely to buy your product\")\n",
    "else: \n",
    "    print(\"This person is not likely to buy your product\")"
   ]
  },
  {
   "cell_type": "markdown",
   "id": "a8521a6c",
   "metadata": {},
   "source": [
    "# B. Repitition Structures / Loops"
   ]
  },
  {
   "cell_type": "markdown",
   "id": "289829e1",
   "metadata": {},
   "source": [
    "## 1. for Loop"
   ]
  },
  {
   "cell_type": "code",
   "execution_count": null,
   "id": "caa8f600",
   "metadata": {},
   "outputs": [],
   "source": [
    "mylist = [\"item1\", \"item2\", \"item3\"]\n",
    "for x in mylist:\n",
    "    print(x)"
   ]
  },
  {
   "cell_type": "code",
   "execution_count": null,
   "id": "3b766ad4",
   "metadata": {},
   "outputs": [],
   "source": [
    "###Looping Through a String\n",
    "mystring = \"Pakistan\"\n",
    "for j in mystring:\n",
    "    print(j)"
   ]
  },
  {
   "cell_type": "code",
   "execution_count": null,
   "id": "946643d2",
   "metadata": {},
   "outputs": [],
   "source": [
    "# Using range()\n",
    "for x in range(1,15,2):\n",
    "    print(x)"
   ]
  },
  {
   "cell_type": "markdown",
   "id": "6b855e8b",
   "metadata": {},
   "source": [
    "## 2. Nested for Loops "
   ]
  },
  {
   "cell_type": "code",
   "execution_count": null,
   "id": "3d53c4fc",
   "metadata": {},
   "outputs": [],
   "source": [
    "p=[1,2,3]\n",
    "d=[1,2]\n",
    "q=[2,4,6]\n",
    "for x in p:\n",
    "    for y in d:\n",
    "        for z in q:\n",
    "            print(\"ARIMA({} ,{}, {})\".format(x,y,z))"
   ]
  },
  {
   "cell_type": "markdown",
   "id": "6115596f",
   "metadata": {},
   "source": [
    "# 3. While Loop"
   ]
  },
  {
   "cell_type": "code",
   "execution_count": null,
   "id": "35e2d996",
   "metadata": {},
   "outputs": [],
   "source": [
    "# Example 1\n",
    "number = 0\n",
    "prompt = \"Guess the number?\"\n",
    "\n",
    "while number != \"42\":\n",
    "    number =  input(prompt)"
   ]
  },
  {
   "cell_type": "code",
   "execution_count": null,
   "id": "d70e2c17",
   "metadata": {
    "scrolled": true
   },
   "outputs": [],
   "source": [
    "#  Example 2\n",
    "answer=20\n",
    "choice='yes'\n",
    "guess=input(\"Guesss the number: \")\n",
    "while(guess!=str(answer) and (choice!='no')):\n",
    "    print(\"\\nYour guess is wrong !\")\n",
    "    choice=input(\"Do you want to guess again! (yes/no): \")\n",
    "    if (choice=='yes' and guess!=number):\n",
    "        number=input(\"Guesss the number again : \")\n",
    "    else:\n",
    "        print(\" GUESS GAME ENDS  \")\n",
    "print(\" Your guess is right or game ends \")    "
   ]
  },
  {
   "cell_type": "code",
   "execution_count": 8,
   "id": "248c0f68",
   "metadata": {},
   "outputs": [
    {
     "name": "stdout",
     "output_type": "stream",
     "text": [
      "Please enter a string as you wish:\n",
      "Hello, how are you?\n",
      "Total number of words in the given string=  4\n"
     ]
    }
   ],
   "source": [
    "# Example 3\n",
    "#This program counts the number of words in a sentence \n",
    "str1=input(\"Please enter a string as you wish:\\n\")\n",
    "tot=1\n",
    "i=0\n",
    "while(i<len(str1)):\n",
    "    if(str1[i]==' ' or str1 == '\\t'):\n",
    "        tot=tot+1\n",
    "    i=i+1\n",
    "    \n",
    "print(\"Total number of words in the given string= \",tot)"
   ]
  },
  {
   "cell_type": "code",
   "execution_count": null,
   "id": "6845020c",
   "metadata": {},
   "outputs": [],
   "source": []
  }
 ],
 "metadata": {
  "kernelspec": {
   "display_name": "Python 3",
   "language": "python",
   "name": "python3"
  },
  "language_info": {
   "codemirror_mode": {
    "name": "ipython",
    "version": 3
   },
   "file_extension": ".py",
   "mimetype": "text/x-python",
   "name": "python",
   "nbconvert_exporter": "python",
   "pygments_lexer": "ipython3",
   "version": "3.8.10"
  }
 },
 "nbformat": 4,
 "nbformat_minor": 5
}
