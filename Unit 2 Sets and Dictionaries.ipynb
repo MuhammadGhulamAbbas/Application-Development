{
 "cells": [
  {
   "cell_type": "markdown",
   "id": "37538f36",
   "metadata": {},
   "source": [
    "#  A) Sets in Python"
   ]
  },
  {
   "cell_type": "markdown",
   "id": "8ae307a0",
   "metadata": {},
   "source": [
    "## 1.Creating Sets "
   ]
  },
  {
   "cell_type": "code",
   "execution_count": 97,
   "id": "16020dda",
   "metadata": {},
   "outputs": [],
   "source": [
    "# Create a set with some elements \n",
    "myset={1,2,\"Java\",\"C++\"}"
   ]
  },
  {
   "cell_type": "code",
   "execution_count": 98,
   "id": "ca13abc1",
   "metadata": {},
   "outputs": [
    {
     "data": {
      "text/plain": [
       "{1, 2, 'C++', 'Java'}"
      ]
     },
     "execution_count": 98,
     "metadata": {},
     "output_type": "execute_result"
    }
   ],
   "source": [
    "myset"
   ]
  },
  {
   "cell_type": "code",
   "execution_count": 99,
   "id": "fef49c5d",
   "metadata": {},
   "outputs": [],
   "source": [
    "## Creating a set from a list\n",
    "mylist=[1,2,\"Python\",'R' ,2]"
   ]
  },
  {
   "cell_type": "code",
   "execution_count": 100,
   "id": "506f6632",
   "metadata": {},
   "outputs": [],
   "source": [
    "myset2=set(mylist)"
   ]
  },
  {
   "cell_type": "code",
   "execution_count": 101,
   "id": "98dc2da8",
   "metadata": {},
   "outputs": [
    {
     "data": {
      "text/plain": [
       "{1, 2, 'Python', 'R'}"
      ]
     },
     "execution_count": 101,
     "metadata": {},
     "output_type": "execute_result"
    }
   ],
   "source": [
    "myset2"
   ]
  },
  {
   "cell_type": "code",
   "execution_count": 102,
   "id": "2cee0014",
   "metadata": {},
   "outputs": [],
   "source": [
    "#Creating an empty set \n",
    "myset3=set()"
   ]
  },
  {
   "cell_type": "code",
   "execution_count": 103,
   "id": "a45efcc1",
   "metadata": {},
   "outputs": [
    {
     "data": {
      "text/plain": [
       "set()"
      ]
     },
     "execution_count": 103,
     "metadata": {},
     "output_type": "execute_result"
    }
   ],
   "source": [
    "myset3"
   ]
  },
  {
   "cell_type": "code",
   "execution_count": 104,
   "id": "04b24d85",
   "metadata": {},
   "outputs": [],
   "source": [
    "# This will create a distionary \n",
    "myset4={}"
   ]
  },
  {
   "cell_type": "code",
   "execution_count": 105,
   "id": "e215da10",
   "metadata": {},
   "outputs": [
    {
     "data": {
      "text/plain": [
       "dict"
      ]
     },
     "execution_count": 105,
     "metadata": {},
     "output_type": "execute_result"
    }
   ],
   "source": [
    "type(myset4)"
   ]
  },
  {
   "cell_type": "markdown",
   "id": "b908c0fb",
   "metadata": {},
   "source": [
    "## 2.  Accessing Set Elements "
   ]
  },
  {
   "cell_type": "code",
   "execution_count": 106,
   "id": "e2e2e94f",
   "metadata": {},
   "outputs": [
    {
     "data": {
      "text/plain": [
       "1"
      ]
     },
     "execution_count": 106,
     "metadata": {},
     "output_type": "execute_result"
    }
   ],
   "source": [
    "# You cannot use index like you do in list\n",
    "mylist[0]"
   ]
  },
  {
   "cell_type": "code",
   "execution_count": 107,
   "id": "020466b9",
   "metadata": {},
   "outputs": [
    {
     "ename": "SyntaxError",
     "evalue": "invalid syntax (<ipython-input-107-b6490d5520f8>, line 2)",
     "output_type": "error",
     "traceback": [
      "\u001b[1;36m  File \u001b[1;32m\"<ipython-input-107-b6490d5520f8>\"\u001b[1;36m, line \u001b[1;32m2\u001b[0m\n\u001b[1;33m    myset[]\u001b[0m\n\u001b[1;37m          ^\u001b[0m\n\u001b[1;31mSyntaxError\u001b[0m\u001b[1;31m:\u001b[0m invalid syntax\n"
     ]
    }
   ],
   "source": [
    "# Elements of a set are unordered , We cannot use [] index to access them. Instead use a for loop.\n",
    "myset[]"
   ]
  },
  {
   "cell_type": "code",
   "execution_count": 108,
   "id": "e368cb4b",
   "metadata": {},
   "outputs": [
    {
     "name": "stdout",
     "output_type": "stream",
     "text": [
      "1\n",
      "2\n",
      "Java\n",
      "C++\n"
     ]
    }
   ],
   "source": [
    "# You need to iterate with the help of a loop\n",
    "for element in myset:\n",
    "    print(element)"
   ]
  },
  {
   "cell_type": "markdown",
   "id": "6263cf8a",
   "metadata": {},
   "source": [
    "## 3. Checking whether an alement is in set "
   ]
  },
  {
   "cell_type": "code",
   "execution_count": 109,
   "id": "f63053b6",
   "metadata": {},
   "outputs": [
    {
     "name": "stdout",
     "output_type": "stream",
     "text": [
      " C++ is present in the set\n"
     ]
    }
   ],
   "source": [
    "if 'C++' in myset:\n",
    "    print(\" C++ is present in the set\")"
   ]
  },
  {
   "cell_type": "code",
   "execution_count": 110,
   "id": "a653b9a5",
   "metadata": {},
   "outputs": [],
   "source": [
    "# Make a function uisng if-else stament check membeship\n",
    "def check_presence(element):\n",
    "    if element in myset:\n",
    "        print(str(element) + \" is present in set\")\n",
    "    else:\n",
    "        print (str(element) + \" is not present in the set\")\n",
    "    "
   ]
  },
  {
   "cell_type": "code",
   "execution_count": 111,
   "id": "b000b3a8",
   "metadata": {},
   "outputs": [
    {
     "name": "stdout",
     "output_type": "stream",
     "text": [
      "2 is present in set\n"
     ]
    }
   ],
   "source": [
    "check_presence(2)"
   ]
  },
  {
   "cell_type": "code",
   "execution_count": 112,
   "id": "814170b4",
   "metadata": {},
   "outputs": [
    {
     "name": "stdout",
     "output_type": "stream",
     "text": [
      "20 is not present in the set\n"
     ]
    }
   ],
   "source": [
    "check_presence(20)"
   ]
  },
  {
   "cell_type": "markdown",
   "id": "e5b94d6b",
   "metadata": {},
   "source": [
    "## 4. Adding elememts to as set"
   ]
  },
  {
   "cell_type": "code",
   "execution_count": 113,
   "id": "b51563ca",
   "metadata": {},
   "outputs": [
    {
     "data": {
      "text/plain": [
       "{1, 2, 'C++', 'Java'}"
      ]
     },
     "execution_count": 113,
     "metadata": {},
     "output_type": "execute_result"
    }
   ],
   "source": [
    "# add() can be used to add a single element\n",
    "myset"
   ]
  },
  {
   "cell_type": "code",
   "execution_count": 114,
   "id": "d9596d26",
   "metadata": {},
   "outputs": [],
   "source": [
    "myset.add(0)"
   ]
  },
  {
   "cell_type": "code",
   "execution_count": 115,
   "id": "7dd75bc5",
   "metadata": {},
   "outputs": [
    {
     "data": {
      "text/plain": [
       "{0, 1, 2, 'C++', 'Java'}"
      ]
     },
     "execution_count": 115,
     "metadata": {},
     "output_type": "execute_result"
    }
   ],
   "source": [
    "myset"
   ]
  },
  {
   "cell_type": "code",
   "execution_count": 116,
   "id": "f10638a4",
   "metadata": {},
   "outputs": [],
   "source": [
    "myset.add(\"C\")"
   ]
  },
  {
   "cell_type": "code",
   "execution_count": 117,
   "id": "917b1a5a",
   "metadata": {},
   "outputs": [
    {
     "data": {
      "text/plain": [
       "{0, 1, 2, 'C', 'C++', 'Java'}"
      ]
     },
     "execution_count": 117,
     "metadata": {},
     "output_type": "execute_result"
    }
   ],
   "source": [
    "myset"
   ]
  },
  {
   "cell_type": "code",
   "execution_count": 118,
   "id": "3ab8f753",
   "metadata": {},
   "outputs": [],
   "source": [
    "# update() can be used to add multiple elements\n",
    "myset.update([10,20,30,'Python'])"
   ]
  },
  {
   "cell_type": "code",
   "execution_count": 119,
   "id": "c64cdaee",
   "metadata": {},
   "outputs": [
    {
     "data": {
      "text/plain": [
       "{0, 1, 10, 2, 20, 30, 'C', 'C++', 'Java', 'Python'}"
      ]
     },
     "execution_count": 119,
     "metadata": {},
     "output_type": "execute_result"
    }
   ],
   "source": [
    "myset"
   ]
  },
  {
   "cell_type": "markdown",
   "id": "afc5fd37",
   "metadata": {},
   "source": [
    "## 5. Removing Elements from a Set"
   ]
  },
  {
   "cell_type": "code",
   "execution_count": 120,
   "id": "2a01b51a",
   "metadata": {},
   "outputs": [],
   "source": [
    "# remove() can be used to remove a specified element\n",
    "myset.remove(10)"
   ]
  },
  {
   "cell_type": "code",
   "execution_count": 121,
   "id": "85e7f748",
   "metadata": {},
   "outputs": [
    {
     "data": {
      "text/plain": [
       "{0, 1, 2, 20, 30, 'C', 'C++', 'Java', 'Python'}"
      ]
     },
     "execution_count": 121,
     "metadata": {},
     "output_type": "execute_result"
    }
   ],
   "source": [
    "myset"
   ]
  },
  {
   "cell_type": "code",
   "execution_count": 122,
   "id": "0515f9b2",
   "metadata": {},
   "outputs": [],
   "source": [
    "# pop() can be used to remove any random element\n",
    "del_element=myset.pop()"
   ]
  },
  {
   "cell_type": "code",
   "execution_count": 123,
   "id": "0f4fca3b",
   "metadata": {},
   "outputs": [
    {
     "data": {
      "text/plain": [
       "0"
      ]
     },
     "execution_count": 123,
     "metadata": {},
     "output_type": "execute_result"
    }
   ],
   "source": [
    "del_element"
   ]
  },
  {
   "cell_type": "code",
   "execution_count": 124,
   "id": "86f75b40",
   "metadata": {},
   "outputs": [
    {
     "data": {
      "text/plain": [
       "{1, 2, 20, 30, 'C', 'C++', 'Java', 'Python'}"
      ]
     },
     "execution_count": 124,
     "metadata": {},
     "output_type": "execute_result"
    }
   ],
   "source": [
    "myset"
   ]
  },
  {
   "cell_type": "code",
   "execution_count": 125,
   "id": "3fa1a0eb",
   "metadata": {},
   "outputs": [],
   "source": [
    "del_element=myset.pop()"
   ]
  },
  {
   "cell_type": "code",
   "execution_count": 126,
   "id": "b35771ab",
   "metadata": {},
   "outputs": [
    {
     "data": {
      "text/plain": [
       "1"
      ]
     },
     "execution_count": 126,
     "metadata": {},
     "output_type": "execute_result"
    }
   ],
   "source": [
    "del_element"
   ]
  },
  {
   "cell_type": "code",
   "execution_count": 127,
   "id": "6ff6a389",
   "metadata": {},
   "outputs": [
    {
     "data": {
      "text/plain": [
       "{2, 20, 30, 'C', 'C++', 'Java', 'Python'}"
      ]
     },
     "execution_count": 127,
     "metadata": {},
     "output_type": "execute_result"
    }
   ],
   "source": [
    "myset"
   ]
  },
  {
   "cell_type": "code",
   "execution_count": 128,
   "id": "a394fb36",
   "metadata": {},
   "outputs": [],
   "source": [
    "del_element=myset.pop()"
   ]
  },
  {
   "cell_type": "code",
   "execution_count": 129,
   "id": "b104511c",
   "metadata": {},
   "outputs": [
    {
     "data": {
      "text/plain": [
       "2"
      ]
     },
     "execution_count": 129,
     "metadata": {},
     "output_type": "execute_result"
    }
   ],
   "source": [
    "del_element"
   ]
  },
  {
   "cell_type": "code",
   "execution_count": 130,
   "id": "6339e12c",
   "metadata": {},
   "outputs": [
    {
     "data": {
      "text/plain": [
       "{20, 30, 'C', 'C++', 'Java', 'Python'}"
      ]
     },
     "execution_count": 130,
     "metadata": {},
     "output_type": "execute_result"
    }
   ],
   "source": [
    "myset"
   ]
  },
  {
   "cell_type": "code",
   "execution_count": 131,
   "id": "ffa2cad2",
   "metadata": {},
   "outputs": [],
   "source": [
    "del_element=myset.pop()"
   ]
  },
  {
   "cell_type": "code",
   "execution_count": 132,
   "id": "aaca5296",
   "metadata": {},
   "outputs": [
    {
     "data": {
      "text/plain": [
       "'C++'"
      ]
     },
     "execution_count": 132,
     "metadata": {},
     "output_type": "execute_result"
    }
   ],
   "source": [
    "del_element"
   ]
  },
  {
   "cell_type": "code",
   "execution_count": 133,
   "id": "0b643528",
   "metadata": {},
   "outputs": [],
   "source": [
    "# clear can be used to clear all the elements from the list\n",
    "myset.clear()"
   ]
  },
  {
   "cell_type": "code",
   "execution_count": 134,
   "id": "52c41add",
   "metadata": {},
   "outputs": [
    {
     "data": {
      "text/plain": [
       "set()"
      ]
     },
     "execution_count": 134,
     "metadata": {},
     "output_type": "execute_result"
    }
   ],
   "source": [
    "myset"
   ]
  },
  {
   "cell_type": "code",
   "execution_count": 135,
   "id": "67cc9019",
   "metadata": {},
   "outputs": [],
   "source": [
    "# del()can be used to delete the set altogether \n",
    "del myset"
   ]
  },
  {
   "cell_type": "code",
   "execution_count": 136,
   "id": "5269ff58",
   "metadata": {},
   "outputs": [
    {
     "ename": "NameError",
     "evalue": "name 'myset' is not defined",
     "output_type": "error",
     "traceback": [
      "\u001b[1;31m---------------------------------------------------------------------------\u001b[0m",
      "\u001b[1;31mNameError\u001b[0m                                 Traceback (most recent call last)",
      "\u001b[1;32m<ipython-input-136-0bed7c2fb20c>\u001b[0m in \u001b[0;36m<module>\u001b[1;34m\u001b[0m\n\u001b[1;32m----> 1\u001b[1;33m \u001b[0mmyset\u001b[0m\u001b[1;33m\u001b[0m\u001b[1;33m\u001b[0m\u001b[0m\n\u001b[0m",
      "\u001b[1;31mNameError\u001b[0m: name 'myset' is not defined"
     ]
    }
   ],
   "source": [
    "myset"
   ]
  },
  {
   "cell_type": "markdown",
   "id": "34df5d97",
   "metadata": {},
   "source": [
    "## 6. Set Operations "
   ]
  },
  {
   "cell_type": "code",
   "execution_count": 140,
   "id": "dbf42341",
   "metadata": {},
   "outputs": [],
   "source": [
    "set1={10,20,30,40,50}\n",
    "set2={5,10,15,20,25,30}"
   ]
  },
  {
   "cell_type": "code",
   "execution_count": 141,
   "id": "dfb365f2",
   "metadata": {},
   "outputs": [],
   "source": [
    "# | acts as a union operator .You can use union() method as well\n",
    "set3=set1|set2"
   ]
  },
  {
   "cell_type": "code",
   "execution_count": 142,
   "id": "26419fa5",
   "metadata": {},
   "outputs": [
    {
     "data": {
      "text/plain": [
       "{5, 10, 15, 20, 25, 30, 40, 50}"
      ]
     },
     "execution_count": 142,
     "metadata": {},
     "output_type": "execute_result"
    }
   ],
   "source": [
    "set3"
   ]
  },
  {
   "cell_type": "code",
   "execution_count": 145,
   "id": "ad4f090f",
   "metadata": {},
   "outputs": [],
   "source": [
    "# & acts as a intersection operator . You can use intersection() method as well\n",
    "set4=set1&set2\n"
   ]
  },
  {
   "cell_type": "code",
   "execution_count": 146,
   "id": "8bdad872",
   "metadata": {},
   "outputs": [
    {
     "data": {
      "text/plain": [
       "{10, 20, 30}"
      ]
     },
     "execution_count": 146,
     "metadata": {},
     "output_type": "execute_result"
    }
   ],
   "source": [
    "set4"
   ]
  },
  {
   "cell_type": "code",
   "execution_count": 150,
   "id": "02832b02",
   "metadata": {},
   "outputs": [],
   "source": [
    "# - operator can be used as a diffrence operator . You can use difference() method as well"
   ]
  },
  {
   "cell_type": "code",
   "execution_count": 151,
   "id": "7b5efc05",
   "metadata": {},
   "outputs": [
    {
     "data": {
      "text/plain": [
       "{5, 15, 25}"
      ]
     },
     "execution_count": 151,
     "metadata": {},
     "output_type": "execute_result"
    }
   ],
   "source": [
    "set2.difference(set1)"
   ]
  },
  {
   "cell_type": "code",
   "execution_count": 152,
   "id": "811a836d",
   "metadata": {},
   "outputs": [],
   "source": [
    "# ^ operator is used as a symetric difference. You can also used symmeric_diffrerence()method\n"
   ]
  },
  {
   "cell_type": "code",
   "execution_count": 153,
   "id": "b94f4e16",
   "metadata": {},
   "outputs": [
    {
     "data": {
      "text/plain": [
       "{5, 15, 25, 40, 50}"
      ]
     },
     "execution_count": 153,
     "metadata": {},
     "output_type": "execute_result"
    }
   ],
   "source": [
    "set2^set1\n",
    "# set1.symmetric_difference()"
   ]
  },
  {
   "cell_type": "markdown",
   "id": "63caf435",
   "metadata": {},
   "source": [
    "# B) Dictionaries in Python"
   ]
  },
  {
   "cell_type": "markdown",
   "id": "deaabba4",
   "metadata": {},
   "source": [
    "## 1. Creating Dictionaries"
   ]
  },
  {
   "cell_type": "code",
   "execution_count": 197,
   "id": "0292afe7",
   "metadata": {},
   "outputs": [
    {
     "name": "stdout",
     "output_type": "stream",
     "text": [
      "{'name': 'Jessa', 'country': 'USA', 'telephone': 1178}\n"
     ]
    }
   ],
   "source": [
    "# create a dictionary using {}\n",
    "person = {\"name\": \"Jessa\", \"country\": \"USA\", \"telephone\": 1178}\n",
    "print(person)\n",
    "# output {'name': 'Jessa', 'country': 'USA', 'telephone': 1178}"
   ]
  },
  {
   "cell_type": "code",
   "execution_count": null,
   "id": "bf42b97a",
   "metadata": {},
   "outputs": [],
   "source": [
    "# create a dictionary from sequence having each item as a pair\n",
    "person = dict([(\"name\", \"Mark\"), (\"country\", \"USA\"), (\"telephone\", 1178)])\n",
    "print(person)"
   ]
  },
  {
   "cell_type": "code",
   "execution_count": null,
   "id": "b2acf712",
   "metadata": {},
   "outputs": [],
   "source": [
    "# create dictionary with value as a list\n",
    "person = {\"name\": \"Jessa\", \"telephones\": [1178, 2563, 4569]}\n",
    "print(person)\n",
    "# output {'name': 'Jessa', 'telephones': [1178, 2563, 4569]}"
   ]
  },
  {
   "cell_type": "code",
   "execution_count": 179,
   "id": "124bae0c",
   "metadata": {},
   "outputs": [
    {
     "name": "stdout",
     "output_type": "stream",
     "text": [
      "{}\n"
     ]
    }
   ],
   "source": [
    "# Creating an empty dictionary\n",
    "mydict={}\n",
    "print(mydict)"
   ]
  },
  {
   "cell_type": "markdown",
   "id": "08527cd9",
   "metadata": {},
   "source": [
    "## 2. Accessing Dictionary Elements"
   ]
  },
  {
   "cell_type": "code",
   "execution_count": 182,
   "id": "dd1d78f8",
   "metadata": {},
   "outputs": [
    {
     "data": {
      "text/plain": [
       "{'name': 'Jessa', 'country': 'USA', 'telephone': 1178}"
      ]
     },
     "execution_count": 182,
     "metadata": {},
     "output_type": "execute_result"
    }
   ],
   "source": [
    "person"
   ]
  },
  {
   "cell_type": "code",
   "execution_count": 181,
   "id": "0cc47341",
   "metadata": {},
   "outputs": [
    {
     "name": "stdout",
     "output_type": "stream",
     "text": [
      "Jessa\n"
     ]
    }
   ],
   "source": [
    "# access value using key  in []\n",
    "print(person['name'])"
   ]
  },
  {
   "cell_type": "code",
   "execution_count": 183,
   "id": "9413ae26",
   "metadata": {},
   "outputs": [
    {
     "name": "stdout",
     "output_type": "stream",
     "text": [
      "1178\n"
     ]
    }
   ],
   "source": [
    "#  get key value using key name in get()\n",
    "print(person.get('telephone'))"
   ]
  },
  {
   "cell_type": "code",
   "execution_count": 193,
   "id": "189f873e",
   "metadata": {},
   "outputs": [
    {
     "name": "stdout",
     "output_type": "stream",
     "text": [
      "dict_keys(['name', 'country', 'telephone'])\n"
     ]
    }
   ],
   "source": [
    "# Get all keys\n",
    "print(person.keys())"
   ]
  },
  {
   "cell_type": "code",
   "execution_count": 194,
   "id": "a98cdebe",
   "metadata": {},
   "outputs": [
    {
     "name": "stdout",
     "output_type": "stream",
     "text": [
      "dict_values(['Jessa', 'USA', 1178])\n"
     ]
    }
   ],
   "source": [
    "# Get all values\n",
    "print(person.values())"
   ]
  },
  {
   "cell_type": "code",
   "execution_count": 195,
   "id": "d30196ce",
   "metadata": {},
   "outputs": [
    {
     "name": "stdout",
     "output_type": "stream",
     "text": [
      "dict_items([('name', 'Jessa'), ('country', 'USA'), ('telephone', 1178)])\n"
     ]
    }
   ],
   "source": [
    "# Get all key-value pair\n",
    "print(person.items())"
   ]
  },
  {
   "cell_type": "markdown",
   "id": "88638a28",
   "metadata": {},
   "source": [
    "## 3. Accessing Dictionary Elements "
   ]
  },
  {
   "cell_type": "code",
   "execution_count": 198,
   "id": "26636ed4",
   "metadata": {},
   "outputs": [
    {
     "name": "stdout",
     "output_type": "stream",
     "text": [
      "key : value\n",
      "name : Jessa\n",
      "country : USA\n",
      "telephone : 1178\n"
     ]
    }
   ],
   "source": [
    "# Iterating the dictionary using for-loop\n",
    "print('key', ':', 'value')\n",
    "for key in person:\n",
    "    print(key, ':', person[key])"
   ]
  },
  {
   "cell_type": "code",
   "execution_count": 199,
   "id": "1fbebfd9",
   "metadata": {},
   "outputs": [
    {
     "name": "stdout",
     "output_type": "stream",
     "text": [
      "key : value\n",
      "name Jessa\n",
      "country USA\n",
      "telephone 1178\n"
     ]
    }
   ],
   "source": [
    "# using items() method\n",
    "print('key', ':', 'value')\n",
    "for key_value in person.items():\n",
    "    # first is key, and second is value\n",
    "    print(key_value[0], key_value[1])"
   ]
  },
  {
   "cell_type": "markdown",
   "id": "d3ff8116",
   "metadata": {},
   "source": [
    "## 4. Adding Elements "
   ]
  },
  {
   "cell_type": "code",
   "execution_count": 200,
   "id": "1b337260",
   "metadata": {},
   "outputs": [
    {
     "name": "stdout",
     "output_type": "stream",
     "text": [
      "{'name': 'Jessa', 'country': 'USA', 'telephone': 1178, 'weight': 50, 'height': 6}\n"
     ]
    }
   ],
   "source": [
    "person = {\"name\": \"Jessa\", 'country': \"USA\", \"telephone\": 1178}\n",
    "\n",
    "# update dictionary by adding 2 new keys\n",
    "person[\"weight\"] = 50\n",
    "person.update({\"height\": 6})\n",
    "\n",
    "print(person)"
   ]
  },
  {
   "cell_type": "markdown",
   "id": "85f7ec5e",
   "metadata": {},
   "source": [
    "## 5. Updating Elements "
   ]
  },
  {
   "cell_type": "code",
   "execution_count": 201,
   "id": "4f5ae97b",
   "metadata": {},
   "outputs": [
    {
     "data": {
      "text/plain": [
       "{'name': 'Jessa',\n",
       " 'country': 'USA',\n",
       " 'telephone': 1178,\n",
       " 'weight': 50,\n",
       " 'height': 6}"
      ]
     },
     "execution_count": 201,
     "metadata": {},
     "output_type": "execute_result"
    }
   ],
   "source": [
    "person"
   ]
  },
  {
   "cell_type": "code",
   "execution_count": 203,
   "id": "984cb70c",
   "metadata": {},
   "outputs": [
    {
     "name": "stdout",
     "output_type": "stream",
     "text": [
      "{'name': 'Jessa', 'country': 'Canada', 'telephone': 1178, 'weight': 50, 'height': 6}\n"
     ]
    }
   ],
   "source": [
    "# updating the country name\n",
    "person[\"country\"] = \"Canada\"\n",
    "print(person)"
   ]
  },
  {
   "cell_type": "code",
   "execution_count": 204,
   "id": "c4d8ea26",
   "metadata": {},
   "outputs": [
    {
     "name": "stdout",
     "output_type": "stream",
     "text": [
      "{'name': 'Jessa', 'country': 'UK', 'telephone': 1178, 'weight': 50, 'height': 6}\n"
     ]
    }
   ],
   "source": [
    "# updating the country name using update() method\n",
    "person.update({\"country\": \"UK\"})\n",
    "print(person)\n"
   ]
  },
  {
   "cell_type": "markdown",
   "id": "ae4596ce",
   "metadata": {},
   "source": [
    "## 6. Removing Elements "
   ]
  },
  {
   "cell_type": "code",
   "execution_count": 205,
   "id": "cc07d152",
   "metadata": {},
   "outputs": [
    {
     "name": "stdout",
     "output_type": "stream",
     "text": [
      "('height', 6)\n",
      "{'name': 'Jessa', 'country': 'UK', 'telephone': 1178, 'weight': 50}\n"
     ]
    }
   ],
   "source": [
    "# Remove last inserted item from the dictionary\n",
    "deleted_item = person.popitem()\n",
    "print(deleted_item)  \n",
    "print(person)"
   ]
  },
  {
   "cell_type": "code",
   "execution_count": 206,
   "id": "046e1a96",
   "metadata": {},
   "outputs": [
    {
     "name": "stdout",
     "output_type": "stream",
     "text": [
      "1178\n",
      "{'name': 'Jessa', 'country': 'UK', 'weight': 50}\n"
     ]
    }
   ],
   "source": [
    "# Remove key 'telephone' from the dictionary\n",
    "deleted_item = person.pop('telephone')\n",
    "print(deleted_item)  \n",
    "print(person) "
   ]
  },
  {
   "cell_type": "code",
   "execution_count": 207,
   "id": "11eb56a6",
   "metadata": {},
   "outputs": [
    {
     "name": "stdout",
     "output_type": "stream",
     "text": [
      "{'name': 'Jessa', 'country': 'UK'}\n"
     ]
    }
   ],
   "source": [
    "# delete key 'weight'\n",
    "del person['weight']\n",
    "print(person)"
   ]
  },
  {
   "cell_type": "code",
   "execution_count": 208,
   "id": "e8f424ab",
   "metadata": {},
   "outputs": [
    {
     "name": "stdout",
     "output_type": "stream",
     "text": [
      "{}\n"
     ]
    }
   ],
   "source": [
    "# remove all item (key-values) from dict\n",
    "person.clear()\n",
    "print(person) "
   ]
  },
  {
   "cell_type": "code",
   "execution_count": 209,
   "id": "f84bd408",
   "metadata": {},
   "outputs": [],
   "source": [
    "# Delete the entire dictionary\n",
    "del person"
   ]
  },
  {
   "cell_type": "code",
   "execution_count": 210,
   "id": "042a86f8",
   "metadata": {},
   "outputs": [
    {
     "ename": "NameError",
     "evalue": "name 'person' is not defined",
     "output_type": "error",
     "traceback": [
      "\u001b[1;31m---------------------------------------------------------------------------\u001b[0m",
      "\u001b[1;31mNameError\u001b[0m                                 Traceback (most recent call last)",
      "\u001b[1;32m<ipython-input-210-df0e5b897da1>\u001b[0m in \u001b[0;36m<module>\u001b[1;34m\u001b[0m\n\u001b[1;32m----> 1\u001b[1;33m \u001b[0mperson\u001b[0m\u001b[1;33m\u001b[0m\u001b[1;33m\u001b[0m\u001b[0m\n\u001b[0m",
      "\u001b[1;31mNameError\u001b[0m: name 'person' is not defined"
     ]
    }
   ],
   "source": [
    "person"
   ]
  },
  {
   "cell_type": "markdown",
   "id": "f60b6bb8",
   "metadata": {},
   "source": [
    "## Nested Dictionaries "
   ]
  },
  {
   "cell_type": "code",
   "execution_count": 234,
   "id": "463dc3e9",
   "metadata": {},
   "outputs": [
    {
     "name": "stdout",
     "output_type": "stream",
     "text": [
      "person: {'name': 'Jessa', 'company': 'Google', 'address': {'state': 'Texas', 'city': 'Houston'}}\n"
     ]
    }
   ],
   "source": [
    "# address dictionary to store person address\n",
    "address = {\"state\": \"Texas\", 'city': 'Houston'}\n",
    "\n",
    "# dictionary to store person details with address as a nested dictionary\n",
    "person = {'name': 'Jessa', 'company': 'Google', 'address': address}\n",
    "\n",
    "# Display dictionary\n",
    "print(\"person:\", person)"
   ]
  },
  {
   "cell_type": "code",
   "execution_count": 235,
   "id": "33e5f961",
   "metadata": {},
   "outputs": [
    {
     "name": "stdout",
     "output_type": "stream",
     "text": [
      "City: Houston\n"
     ]
    }
   ],
   "source": [
    "# Get nested dictionary key 'city'\n",
    "print(\"City:\", person['address']['city'])\n"
   ]
  },
  {
   "cell_type": "code",
   "execution_count": 238,
   "id": "e6dc7505",
   "metadata": {},
   "outputs": [
    {
     "name": "stdout",
     "output_type": "stream",
     "text": [
      "Person details\n",
      "name : Jessa\n",
      "company : Google\n",
      "Person Address\n",
      "state : Texas\n",
      "city : Houston\n"
     ]
    }
   ],
   "source": [
    "# Iterating outer dictionary\n",
    "print(\"Person details\")\n",
    "for key, value in person.items():\n",
    "    if key == 'address':\n",
    "        # Iterating through nested dictionary\n",
    "        print(\"Person Address\")\n",
    "        for nested_key, nested_value in value.items():\n",
    "            print(nested_key, ':', nested_value)\n",
    "    else:\n",
    "        print(key, ':', value)"
   ]
  },
  {
   "cell_type": "markdown",
   "id": "eeaebda8",
   "metadata": {},
   "source": [
    "## Sorting "
   ]
  },
  {
   "cell_type": "code",
   "execution_count": 242,
   "id": "41a1b4fb",
   "metadata": {
    "scrolled": true
   },
   "outputs": [
    {
     "data": {
      "text/plain": [
       "{'c': 45, 'b': 95, 'a': 35}"
      ]
     },
     "execution_count": 242,
     "metadata": {},
     "output_type": "execute_result"
    }
   ],
   "source": [
    "dict1 = {'c': 45, 'b': 95, 'a': 35}\n",
    "dict1\n",
    "\n"
   ]
  },
  {
   "cell_type": "code",
   "execution_count": 243,
   "id": "c31d9893",
   "metadata": {},
   "outputs": [
    {
     "name": "stdout",
     "output_type": "stream",
     "text": [
      "[('a', 35), ('b', 95), ('c', 45)]\n"
     ]
    }
   ],
   "source": [
    "# sorting dictionary by keys\n",
    "print(sorted(dict1.items()))"
   ]
  },
  {
   "cell_type": "code",
   "execution_count": null,
   "id": "54def222",
   "metadata": {},
   "outputs": [],
   "source": []
  },
  {
   "cell_type": "code",
   "execution_count": null,
   "id": "fa90bedd",
   "metadata": {},
   "outputs": [],
   "source": [
    "# Output [('a', 35), ('b', 95), ('c', 45)]\n",
    "\n",
    "# sort dict eys\n",
    "print(sorted(dict1))\n",
    "# output ['a', 'b', 'c']\n",
    "\n",
    "# sort dictionary values\n",
    "print(sorted(dict1.values()))\n",
    "# output [35, 45, 95]"
   ]
  },
  {
   "cell_type": "code",
   "execution_count": 244,
   "id": "97670a46",
   "metadata": {},
   "outputs": [
    {
     "name": "stdout",
     "output_type": "stream",
     "text": [
      "['a', 'b', 'c']\n"
     ]
    }
   ],
   "source": [
    "# sort dict eys\n",
    "print(sorted(dict1))\n"
   ]
  },
  {
   "cell_type": "markdown",
   "id": "cedd8dff",
   "metadata": {},
   "source": [
    "### END "
   ]
  }
 ],
 "metadata": {
  "kernelspec": {
   "display_name": "Python 3",
   "language": "python",
   "name": "python3"
  },
  "language_info": {
   "codemirror_mode": {
    "name": "ipython",
    "version": 3
   },
   "file_extension": ".py",
   "mimetype": "text/x-python",
   "name": "python",
   "nbconvert_exporter": "python",
   "pygments_lexer": "ipython3",
   "version": "3.8.10"
  }
 },
 "nbformat": 4,
 "nbformat_minor": 5
}
